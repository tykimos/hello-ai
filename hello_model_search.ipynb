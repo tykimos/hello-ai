{
  "nbformat": 4,
  "nbformat_minor": 0,
  "metadata": {
    "colab": {
      "name": "hello_model_search.ipynb",
      "provenance": [],
      "collapsed_sections": [],
      "authorship_tag": "ABX9TyPiKYurj60SgaoDcHfZ8Df2",
      "include_colab_link": true
    },
    "kernelspec": {
      "name": "python3",
      "display_name": "Python 3"
    },
    "accelerator": "TPU"
  },
  "cells": [
    {
      "cell_type": "markdown",
      "metadata": {
        "id": "view-in-github",
        "colab_type": "text"
      },
      "source": [
        "<a href=\"https://colab.research.google.com/github/tykimos/hello-ai/blob/main/hello_model_search.ipynb\" target=\"_parent\"><img src=\"https://colab.research.google.com/assets/colab-badge.svg\" alt=\"Open In Colab\"/></a>"
      ]
    },
    {
      "cell_type": "markdown",
      "metadata": {
        "id": "j-o-hk60xVH2"
      },
      "source": [
        ""
      ]
    },
    {
      "cell_type": "code",
      "metadata": {
        "colab": {
          "base_uri": "https://localhost:8080/"
        },
        "id": "jtmiaElYSY6p",
        "outputId": "4fbe724c-d5ae-4c7b-9f68-e9f1e12b9ea6"
      },
      "source": [
        "!git clone https://github.com/google/model_search.git"
      ],
      "execution_count": 1,
      "outputs": [
        {
          "output_type": "stream",
          "text": [
            "Cloning into 'model_search'...\n",
            "remote: Enumerating objects: 141, done.\u001b[K\n",
            "remote: Counting objects: 100% (141/141), done.\u001b[K\n",
            "remote: Compressing objects: 100% (109/109), done.\u001b[K\n",
            "remote: Total 141 (delta 30), reused 136 (delta 28), pack-reused 0\u001b[K\n",
            "Receiving objects: 100% (141/141), 214.12 KiB | 3.69 MiB/s, done.\n",
            "Resolving deltas: 100% (30/30), done.\n"
          ],
          "name": "stdout"
        }
      ]
    },
    {
      "cell_type": "markdown",
      "metadata": {
        "id": "EEyECmz-xWVM"
      },
      "source": [
        ""
      ]
    },
    {
      "cell_type": "code",
      "metadata": {
        "colab": {
          "base_uri": "https://localhost:8080/"
        },
        "id": "dhrgX4VDSc1_",
        "outputId": "75a42a71-5b75-4279-8124-fedb61c518d5"
      },
      "source": [
        "%cd model_search"
      ],
      "execution_count": 2,
      "outputs": [
        {
          "output_type": "stream",
          "text": [
            "/content/model_search\n"
          ],
          "name": "stdout"
        }
      ]
    },
    {
      "cell_type": "code",
      "metadata": {
        "id": "_fGS84Q-xXlK"
      },
      "source": [
        ""
      ],
      "execution_count": 2,
      "outputs": []
    },
    {
      "cell_type": "code",
      "metadata": {
        "colab": {
          "base_uri": "https://localhost:8080/"
        },
        "id": "zkVdfvdYSeJY",
        "outputId": "98b1e3b1-7343-412c-b172-dd5c4f5ff024"
      },
      "source": [
        "!pip install -r requirements.txt"
      ],
      "execution_count": null,
      "outputs": [
        {
          "output_type": "stream",
          "text": [
            "Requirement already satisfied: six==1.15.0 in /usr/local/lib/python3.7/dist-packages (from -r requirements.txt (line 1)) (1.15.0)\n",
            "Requirement already satisfied: sklearn==0.0 in /usr/local/lib/python3.7/dist-packages (from -r requirements.txt (line 2)) (0.0)\n",
            "Collecting tensorflow==2.2.0\n",
            "\u001b[?25l  Downloading https://files.pythonhosted.org/packages/4c/1a/0d79814736cfecc825ab8094b39648cc9c46af7af1bae839928acb73b4dd/tensorflow-2.2.0-cp37-cp37m-manylinux2010_x86_64.whl (516.2MB)\n",
            "\u001b[K     |███████████████████▉            | 319.2MB 1.2MB/s eta 0:02:42"
          ],
          "name": "stdout"
        }
      ]
    },
    {
      "cell_type": "code",
      "metadata": {
        "id": "oqWvK-RgxakE"
      },
      "source": [
        ""
      ],
      "execution_count": null,
      "outputs": []
    },
    {
      "cell_type": "code",
      "metadata": {
        "id": "zGqg7zl3SgNA"
      },
      "source": [
        "!protoc --python_out=./ model_search/proto/hparam.proto\n",
        "!protoc --python_out=./ model_search/proto/phoenix_spec.proto\n",
        "!protoc --python_out=./ model_search/proto/distillation_spec.proto\n",
        "!protoc --python_out=./ model_search/proto/ensembling_spec.proto\n",
        "!protoc --python_out=./ model_search/proto/transfer_learning_spec.proto"
      ],
      "execution_count": null,
      "outputs": []
    },
    {
      "cell_type": "markdown",
      "metadata": {
        "id": "dNAdy0kvxbrc"
      },
      "source": [
        ""
      ]
    },
    {
      "cell_type": "code",
      "metadata": {
        "id": "iZoBl1aySk3H"
      },
      "source": [
        "import sys\n",
        "from absl import app\n",
        "\n",
        "# Addresses `UnrecognizedFlagError: Unknown command line flag 'f'`\n",
        "sys.argv = sys.argv[:1]\n",
        "\n",
        "# `app.run` calls `sys.exit`\n",
        "try:\n",
        "  app.run(lambda argv: None)\n",
        "except:\n",
        "  pass"
      ],
      "execution_count": null,
      "outputs": []
    },
    {
      "cell_type": "markdown",
      "metadata": {
        "id": "RUFXJ9h_xc0O"
      },
      "source": [
        ""
      ]
    },
    {
      "cell_type": "code",
      "metadata": {
        "id": "VKnzGstiSrOq"
      },
      "source": [
        "import model_search\n",
        "from model_search import constants\n",
        "from model_search import single_trainer\n",
        "from model_search.data import csv_data\n",
        "\n",
        "trainer = single_trainer.SingleTrainer(\n",
        "    data=csv_data.Provider(\n",
        "        label_index=0,\n",
        "        logits_dimension=2,\n",
        "        record_defaults=[0, 0, 0, 0],\n",
        "        filename=\"model_search/data/testdata/csv_random_data.csv\"),\n",
        "        spec=\"model_search/configs/dnn_config.pbtxt\")\n",
        "\n",
        "trainer.try_models(\n",
        "    number_models=100,\n",
        "    train_steps=1000,\n",
        "    eval_steps=100,\n",
        "    root_dir=\"/tmp/run_example\",\n",
        "    batch_size=32,\n",
        "    experiment_name=\"example\",\n",
        "    experiment_owner=\"model_search_user\")"
      ],
      "execution_count": null,
      "outputs": []
    },
    {
      "cell_type": "code",
      "metadata": {
        "id": "nIv_GSfIxOLl"
      },
      "source": [
        ""
      ],
      "execution_count": null,
      "outputs": []
    }
  ]
}